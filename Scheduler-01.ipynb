{
  "nbformat": 4,
  "nbformat_minor": 0,
  "metadata": {
    "colab": {
      "name": "Scheduler.ipynb",
      "provenance": [],
      "collapsed_sections": [],
      "include_colab_link": true
    },
    "kernelspec": {
      "name": "python3",
      "display_name": "Python 3"
    }
  },
  "cells": [
    {
      "cell_type": "markdown",
      "metadata": {
        "id": "view-in-github",
        "colab_type": "text"
      },
      "source": [
        "<a href=\"https://colab.research.google.com/github/KwanJ-N/CatDCGAN/blob/master/Scheduler-01.ipynb\" target=\"_parent\"><img src=\"https://colab.research.google.com/assets/colab-badge.svg\" alt=\"Open In Colab\"/></a>"
      ]
    },
    {
      "cell_type": "code",
      "metadata": {
        "id": "dETukp8Gmlm4",
        "colab_type": "code",
        "outputId": "96ee977d-2ebf-4acf-82df-b136fe345b37",
        "colab": {
          "base_uri": "https://localhost:8080/",
          "height": 412
        }
      },
      "source": [
        "pip install mysql-connector-python"
      ],
      "execution_count": 0,
      "outputs": [
        {
          "output_type": "stream",
          "text": [
            "Collecting mysql-connector-python\n",
            "\u001b[?25l  Downloading https://files.pythonhosted.org/packages/d8/29/45c72a2292011816aab7f73e778872e79573a2ecc897592f7119ed802a82/mysql_connector_python-8.0.19-cp36-cp36m-manylinux1_x86_64.whl (14.7MB)\n",
            "\u001b[K     |████████████████████████████████| 14.7MB 289kB/s \n",
            "\u001b[?25hCollecting protobuf==3.6.1\n",
            "\u001b[?25l  Downloading https://files.pythonhosted.org/packages/c2/f9/28787754923612ca9bfdffc588daa05580ed70698add063a5629d1a4209d/protobuf-3.6.1-cp36-cp36m-manylinux1_x86_64.whl (1.1MB)\n",
            "\u001b[K     |████████████████████████████████| 1.1MB 42.0MB/s \n",
            "\u001b[?25hCollecting dnspython==1.16.0\n",
            "\u001b[?25l  Downloading https://files.pythonhosted.org/packages/ec/d3/3aa0e7213ef72b8585747aa0e271a9523e713813b9a20177ebe1e939deb0/dnspython-1.16.0-py2.py3-none-any.whl (188kB)\n",
            "\u001b[K     |████████████████████████████████| 194kB 50.3MB/s \n",
            "\u001b[?25hRequirement already satisfied: six>=1.9 in /usr/local/lib/python3.6/dist-packages (from protobuf==3.6.1->mysql-connector-python) (1.12.0)\n",
            "Requirement already satisfied: setuptools in /usr/local/lib/python3.6/dist-packages (from protobuf==3.6.1->mysql-connector-python) (45.1.0)\n",
            "\u001b[31mERROR: tensorflow-metadata 0.21.1 has requirement protobuf<4,>=3.7, but you'll have protobuf 3.6.1 which is incompatible.\u001b[0m\n",
            "Installing collected packages: protobuf, dnspython, mysql-connector-python\n",
            "  Found existing installation: protobuf 3.10.0\n",
            "    Uninstalling protobuf-3.10.0:\n",
            "      Successfully uninstalled protobuf-3.10.0\n",
            "Successfully installed dnspython-1.16.0 mysql-connector-python-8.0.19 protobuf-3.6.1\n"
          ],
          "name": "stdout"
        },
        {
          "output_type": "display_data",
          "data": {
            "application/vnd.colab-display-data+json": {
              "pip_warning": {
                "packages": [
                  "google"
                ]
              }
            }
          },
          "metadata": {
            "tags": []
          }
        }
      ]
    },
    {
      "cell_type": "code",
      "metadata": {
        "id": "XZv1LYWxk12v",
        "colab_type": "code",
        "colab": {}
      },
      "source": [
        "import random as rand\n",
        "import mysql.connector\n",
        "import numpy as np\n",
        "import pandas as pd"
      ],
      "execution_count": 0,
      "outputs": []
    },
    {
      "cell_type": "markdown",
      "metadata": {
        "id": "qu41Oom-l432",
        "colab_type": "text"
      },
      "source": [
        "MYSQL CONNECTOR CODE \n",
        "need to figure out how to connect to school mysql\n"
      ]
    },
    {
      "cell_type": "code",
      "metadata": {
        "id": "MzlKNfEgl4XF",
        "colab_type": "code",
        "colab": {}
      },
      "source": [
        "\n",
        "import mysql.connector\n",
        "\n",
        "mydb = mysql.connector.connect(\n",
        "  host=\"athena.ecs.csus.edu\",\n",
        "  user=\"semicolon_user\",\n",
        "  passwd=\"chickenthighs\",\n",
        "  database=\"semicolon\"\n",
        ")\n",
        "\n",
        "mycursor = mydb.cursor()\n",
        "mycursor.execute(\"SHOW TABLES\")\n",
        "\n",
        "for x in mycursor:\n",
        "\tprint(x)"
      ],
      "execution_count": 0,
      "outputs": []
    },
    {
      "cell_type": "code",
      "metadata": {
        "id": "tMnp2rlOnwyP",
        "colab_type": "code",
        "colab": {}
      },
      "source": [
        "mycursor.execute(\"CREATE TABLE customers (name VARCHAR(255), address VARCHAR(255))\")\n"
      ],
      "execution_count": 0,
      "outputs": []
    },
    {
      "cell_type": "markdown",
      "metadata": {
        "id": "QxuT7-JAQRGd",
        "colab_type": "text"
      },
      "source": [
        "Create lists to temp hold Variables  \n",
        "Two lists  \n",
        "1st list holds Person objects which have names.  \n",
        "2nd list needs to be returned or queried by Javascript somehow to show the People selected by Python for that day to work."
      ]
    },
    {
      "cell_type": "code",
      "metadata": {
        "id": "WVPzrw_lgfa4",
        "colab_type": "code",
        "outputId": "1b9d696f-cab1-479e-a975-fb50f2496242",
        "colab": {
          "base_uri": "https://localhost:8080/",
          "height": 34
        }
      },
      "source": [
        "lst = []\n",
        "lst2 = []\n",
        "print(lst)"
      ],
      "execution_count": 0,
      "outputs": [
        {
          "output_type": "stream",
          "text": [
            "[]\n"
          ],
          "name": "stdout"
        }
      ]
    },
    {
      "cell_type": "code",
      "metadata": {
        "id": "9hYCVSC2n3EI",
        "colab_type": "code",
        "colab": {}
      },
      "source": [
        "def arrayApp(item, array):\n",
        "    array.append(item)\n",
        "    return array"
      ],
      "execution_count": 0,
      "outputs": []
    },
    {
      "cell_type": "markdown",
      "metadata": {
        "id": "u1VA1Q8cYTCK",
        "colab_type": "text"
      },
      "source": [
        "a function meant to hold data, right now just their name and weight  \n",
        "Idea here is to create an object which will hold the persons information, then put that object into the lst which we can then use to sort etc."
      ]
    },
    {
      "cell_type": "code",
      "metadata": {
        "id": "odSC9cplYWgt",
        "colab_type": "code",
        "colab": {}
      },
      "source": [
        "class person(object) :\n",
        "  def __init__(name, weight):\n",
        "      p_name = name\n",
        "      p_weight = weight\n",
        "  def nameCall():\n",
        "    return p_name\n",
        "  def weightCall():\n",
        "    return p_weight"
      ],
      "execution_count": 0,
      "outputs": []
    },
    {
      "cell_type": "code",
      "metadata": {
        "id": "EpjclQtYZXO_",
        "colab_type": "code",
        "colab": {}
      },
      "source": [
        "lst.clear()\n",
        "test = person('john' '5')\n",
        "arrayApp(test, lst)\n",
        "print(lst)\n",
        "print(len(lst))\n"
      ],
      "execution_count": 0,
      "outputs": []
    },
    {
      "cell_type": "code",
      "metadata": {
        "id": "1OIDI4D9cwPy",
        "colab_type": "code",
        "colab": {}
      },
      "source": [
        "def createP(name):\n",
        "  newPerson = person(name '10')\n",
        "  arrayApp(newPerson, lst)\n"
      ],
      "execution_count": 0,
      "outputs": []
    },
    {
      "cell_type": "markdown",
      "metadata": {
        "id": "NmuSfS_ojsIS",
        "colab_type": "text"
      },
      "source": [
        ""
      ]
    },
    {
      "cell_type": "code",
      "metadata": {
        "id": "LCdCmBtZiacP",
        "colab_type": "code",
        "colab": {}
      },
      "source": [
        "def randomizer(size):\n",
        "  return rand.randrange(size)\n"
      ],
      "execution_count": 0,
      "outputs": []
    },
    {
      "cell_type": "markdown",
      "metadata": {
        "id": "OwBN6fR6WAuA",
        "colab_type": "text"
      },
      "source": [
        "Idea for Query is to grab all the names of the people who can work that day and in that time slot, 3 hours minimum Use fetchall(), fetchmany() and fetchone()   Make sure in query to only select name.  \n",
        "QUERY IS WRONG STILL!! NEED TO SEE THE ACTUAL TABLE SO I CAN SEARCH FOR THE PROPER PARAMETER"
      ]
    },
    {
      "cell_type": "code",
      "metadata": {
        "id": "Jplrrq8yj_Xr",
        "colab_type": "code",
        "colab": {}
      },
      "source": [
        "def querydb(day, time):\n",
        "  sql_select_query = \"\"\"select Fname, Lname from Employee where*\"\"\"\n",
        "  mycursor.execute(sql_select_query(buffered = True))\n",
        "  search = mycursor.fetchall()\n",
        "  for row in search:\n",
        "      createP((row[0] + \" \" + row[1]))\n",
        "\n",
        "  "
      ],
      "execution_count": 0,
      "outputs": []
    },
    {
      "cell_type": "markdown",
      "metadata": {
        "id": "qYuf_SNjWJRd",
        "colab_type": "text"
      },
      "source": [
        "Idea for select is to send it a lst, which will have a array 2 elements, name and weight. it will pick based on weight, which should intially all be equal, and if it is it picks a random one."
      ]
    },
    {
      "cell_type": "code",
      "metadata": {
        "id": "l43nSivIWKpy",
        "colab_type": "code",
        "colab": {}
      },
      "source": [
        "def select(list):\n",
        "  \n",
        "  randomizer(len(list))\n"
      ],
      "execution_count": 0,
      "outputs": []
    },
    {
      "cell_type": "markdown",
      "metadata": {
        "id": "cO9xgvFnjS9L",
        "colab_type": "text"
      },
      "source": [
        "Sort the List of names by Weight"
      ]
    },
    {
      "cell_type": "code",
      "metadata": {
        "id": "2WF4LXnXikRY",
        "colab_type": "code",
        "colab": {}
      },
      "source": [
        "def sortList(list):\n"
      ],
      "execution_count": 0,
      "outputs": []
    },
    {
      "cell_type": "markdown",
      "metadata": {
        "id": "F9SseVXnjVVS",
        "colab_type": "text"
      },
      "source": [
        "Count the number of weights in the List that are equal"
      ]
    },
    {
      "cell_type": "code",
      "metadata": {
        "id": "mVbyFFnLjY4g",
        "colab_type": "code",
        "colab": {}
      },
      "source": [
        "def countList(list)"
      ],
      "execution_count": 0,
      "outputs": []
    }
  ]
}